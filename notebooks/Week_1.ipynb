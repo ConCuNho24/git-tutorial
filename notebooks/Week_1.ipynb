{
  "nbformat": 4,
  "nbformat_minor": 0,
  "metadata": {
    "colab": {
      "provenance": []
    },
    "kernelspec": {
      "name": "ir",
      "display_name": "R"
    },
    "language_info": {
      "name": "R"
    }
  },
  "cells": [
    {
      "cell_type": "markdown",
      "source": [
        "# **Week 1: Introduction to Data Wrangling and Visualisation in R**\n",
        "```\n",
        ".------------------------------------.\n",
        "|   __  ____  ______  _  ___ _____   |\n",
        "|  |  \\/  \\ \\/ / __ )/ |/ _ \\___  |  |\n",
        "|  | |\\/| |\\  /|  _ \\| | | | | / /   |\n",
        "|  | |  | |/  \\| |_) | | |_| |/ /    |\n",
        "|  |_|  |_/_/\\_\\____/|_|\\___//_/     |\n",
        "'------------------------------------'\n",
        "\n",
        "```\n"
      ],
      "metadata": {
        "id": "ZtpJJ8BSHOaK"
      }
    },
    {
      "cell_type": "markdown",
      "source": [
        "This week, we will dive into data wrangling and data visualisation in R using the `dplyr` and `ggplot2` packages. If you are not familiar with basic R data types and operations, please take some time to review [Week 0](https://colab.research.google.com/github/edelweiss611428/MXB107-Notebooks/blob/main/notebooks/Week_0.ipynb) content."
      ],
      "metadata": {
        "id": "QWuoIciBrV25"
      }
    },
    {
      "cell_type": "markdown",
      "source": [
        "## **Pre-Configurating the Notebook**"
      ],
      "metadata": {
        "id": "SpK9XLxlHOcm"
      }
    },
    {
      "cell_type": "markdown",
      "source": [
        "### **Switching to the R Kernel on Colab**\n",
        "\n",
        "By default, Google Colab uses Python as its programming language. To use R instead, you’ll need to manually switch the kernel by going to **Runtime > Change runtime type**, and selecting R as the kernel. This allows you to run R code in the Colab environment.\n",
        "\n",
        "However, our notebook is already configured to use R by default. Unless something goes wrong, you shouldn’t need to manually change runtime type."
      ],
      "metadata": {
        "id": "4yA6tfrakIOY"
      }
    },
    {
      "cell_type": "markdown",
      "source": [
        "### **Importing Required Datasets and Packages**\n",
        "**Run the following lines of code**:"
      ],
      "metadata": {
        "id": "VLNikK3CYWIx"
      }
    },
    {
      "cell_type": "code",
      "source": [
        "#Do not modify\n",
        "\n",
        "setwd(\"/content\")\n",
        "\n",
        "# Remove `MXB107-Notebooks` if exists,\n",
        "if (dir.exists(\"MXB107-Notebooks\")) {\n",
        "  system(\"rm -rf MXB107-Notebooks\")\n",
        "}\n",
        "\n",
        "# Fork the repository\n",
        "system(\"git clone https://github.com/edelweiss611428/MXB107-Notebooks.git\")\n",
        "\n",
        "# Change working directory to \"MXB107-Notebooks\"\n",
        "setwd(\"MXB107-Notebooks\")\n",
        "\n",
        "#\n",
        "invisible(source(\"R/preConfigurated.R\"))"
      ],
      "metadata": {
        "id": "tYGemispahiY",
        "colab": {
          "base_uri": "https://localhost:8080/"
        },
        "outputId": "660517e8-9d06-4b27-9e2d-d32ce7f17576"
      },
      "execution_count": 1,
      "outputs": [
        {
          "output_type": "stream",
          "name": "stderr",
          "text": [
            "Loading required package: ggplot2\n",
            "\n",
            "Loading required package: dplyr\n",
            "\n",
            "\n",
            "Attaching package: ‘dplyr’\n",
            "\n",
            "\n",
            "The following objects are masked from ‘package:stats’:\n",
            "\n",
            "    filter, lag\n",
            "\n",
            "\n",
            "The following objects are masked from ‘package:base’:\n",
            "\n",
            "    intersect, setdiff, setequal, union\n",
            "\n",
            "\n",
            "Loading required package: tidyr\n",
            "\n",
            "Loading required package: stringr\n",
            "\n",
            "Loading required package: magrittr\n",
            "\n",
            "\n",
            "Attaching package: ‘magrittr’\n",
            "\n",
            "\n",
            "The following object is masked from ‘package:tidyr’:\n",
            "\n",
            "    extract\n",
            "\n",
            "\n",
            "Loading required package: IRdisplay\n",
            "\n",
            "Loading required package: png\n",
            "\n",
            "Warning message in library(package, lib.loc = lib.loc, character.only = TRUE, logical.return = TRUE, :\n",
            "“there is no package called ‘png’”\n",
            "Installing package into ‘/usr/local/lib/R/site-library’\n",
            "(as ‘lib’ is unspecified)\n",
            "\n",
            "Loading required package: grid\n",
            "\n",
            "Loading required package: knitr\n",
            "\n"
          ]
        }
      ]
    },
    {
      "cell_type": "markdown",
      "source": [
        "**Do not modify the following**:"
      ],
      "metadata": {
        "id": "o_XFVhdp1GrA"
      }
    },
    {
      "cell_type": "code",
      "source": [
        "if (!require(\"testthat\")) install.packages(\"testthat\"); library(\"testthat\")\n",
        "\n",
        "test_that(\"Test if all packages have been loaded\", {\n",
        "\n",
        "  expect_true(all(c(\"ggplot2\", \"tidyr\", \"dplyr\", \"stringr\", \"magrittr\") %in% loadedNamespaces()))\n",
        "\n",
        "})\n",
        "\n",
        "test_that(\"Test if all utility functions have been loaded\", {\n",
        "  expect_true(exists(\"skewness\"))\n",
        "  expect_true(exists(\"kurtosis\"))\n",
        "})"
      ],
      "metadata": {
        "id": "6lru0NFK011G",
        "colab": {
          "base_uri": "https://localhost:8080/"
        },
        "outputId": "53ede558-14fb-4f80-a8f2-c56d978bb72b"
      },
      "execution_count": 2,
      "outputs": [
        {
          "output_type": "stream",
          "name": "stderr",
          "text": [
            "Loading required package: testthat\n",
            "\n",
            "\n",
            "Attaching package: ‘testthat’\n",
            "\n",
            "\n",
            "The following objects are masked from ‘package:magrittr’:\n",
            "\n",
            "    equals, is_less_than, not\n",
            "\n",
            "\n",
            "The following object is masked from ‘package:tidyr’:\n",
            "\n",
            "    matches\n",
            "\n",
            "\n",
            "The following object is masked from ‘package:dplyr’:\n",
            "\n",
            "    matches\n",
            "\n",
            "\n"
          ]
        },
        {
          "output_type": "stream",
          "name": "stdout",
          "text": [
            "\u001b[32mTest passed\u001b[39m 🥳\n",
            "\u001b[32mTest passed\u001b[39m 😸\n"
          ]
        }
      ]
    },
    {
      "cell_type": "markdown",
      "source": [
        "## **Data Wrangling in R via `dplyr` and `magrittr`**\n",
        "\n",
        "Data wrangling is the process of cleaning, transforming, and reshaping data for analysis. The `dplyr` package, often used with the pipe operator `%>%` from `magrittr`, provides a set of intuitive functions for these tasks."
      ],
      "metadata": {
        "id": "U_ePA59nkztM"
      }
    },
    {
      "cell_type": "markdown",
      "source": [
        "### **Can We Do This in Base R?**\n",
        "\n",
        "Yes, but the syntax tends to be more verbose and less readable. For demonstration, we will load the CSV file `MXB107_2025.csv`."
      ],
      "metadata": {
        "id": "qm3Wjdwyu6Ig"
      }
    },
    {
      "cell_type": "code",
      "source": [
        "MXB107_Info = read.csv(\"./datasets/MXB107_2025.csv\")\n",
        "str(MXB107_Info)"
      ],
      "metadata": {
        "id": "i8JxHB7ln84o",
        "colab": {
          "base_uri": "https://localhost:8080/"
        },
        "outputId": "31045893-a06e-400b-d605-77db06f6c109"
      },
      "execution_count": 3,
      "outputs": [
        {
          "output_type": "stream",
          "name": "stdout",
          "text": [
            "'data.frame':\t12 obs. of  8 variables:\n",
            " $ Class         : chr  \"LEC01 01\" \"LEC01 01\" \"PRC01 01\" \"PRC01 01\" ...\n",
            " $ Type          : chr  \"Lecture (Internal)\" \"Lecture (Online)\" \"Practical (Online)\" \"Practical (Internal)\" ...\n",
            " $ Day           : chr  \"Wed\" \"Wed\" \"Wed\" \"Thu\" ...\n",
            " $ Location      : chr  \"GP B117\" \"Online\" \"Online\" \"GP D413\" ...\n",
            " $ Limit         : int  240 1000 30 35 30 35 25 30 35 35 ...\n",
            " $ Teaching_Staff: chr  \"Chris Drovandi\" \"Chris Drovandi\" \"Narayan Srinivasan\" \"Narayan Srinivasan\" ...\n",
            " $ From          : int  11 11 16 16 16 9 14 9 9 11 ...\n",
            " $ To            : int  13 13 18 18 18 11 16 11 11 13 ...\n"
          ]
        }
      ]
    },
    {
      "cell_type": "markdown",
      "source": [
        "We want to extract all classes that start after 9:00 AM on either Thursday or Friday and are not online."
      ],
      "metadata": {
        "id": "mlq_QzyjnBrJ"
      }
    },
    {
      "cell_type": "code",
      "source": [
        "notOnline = MXB107_Info$Location != \"Online\"\n",
        "onThursday = MXB107_Info$Day %in% c(\"Thu\", \"Fri\")\n",
        "startAfter9AM = MXB107_Info$From > 9\n",
        "subset(MXB107_Info, notOnline & onThursday & startAfter9AM) ### subset đi với df và condition phía sau\n",
        "\n",
        "### hoặc như này\n",
        "\n",
        "results = MXB107_Info %>%\n",
        "  filter(Location != \"Online\",\n",
        "         Day %in% c(\"Thu\", \"Fri\"),\n",
        "         From > 9)\n",
        "print(results) ### cái này thì không in ra dạng data frame"
      ],
      "metadata": {
        "id": "VLZu9aUgvJz3",
        "colab": {
          "base_uri": "https://localhost:8080/",
          "height": 359
        },
        "outputId": "3b86f673-f063-481a-e380-72e96875126b"
      },
      "execution_count": 5,
      "outputs": [
        {
          "output_type": "display_data",
          "data": {
            "text/html": [
              "<table class=\"dataframe\">\n",
              "<caption>A data.frame: 5 × 8</caption>\n",
              "<thead>\n",
              "\t<tr><th></th><th scope=col>Class</th><th scope=col>Type</th><th scope=col>Day</th><th scope=col>Location</th><th scope=col>Limit</th><th scope=col>Teaching_Staff</th><th scope=col>From</th><th scope=col>To</th></tr>\n",
              "\t<tr><th></th><th scope=col>&lt;chr&gt;</th><th scope=col>&lt;chr&gt;</th><th scope=col>&lt;chr&gt;</th><th scope=col>&lt;chr&gt;</th><th scope=col>&lt;int&gt;</th><th scope=col>&lt;chr&gt;</th><th scope=col>&lt;int&gt;</th><th scope=col>&lt;int&gt;</th></tr>\n",
              "</thead>\n",
              "<tbody>\n",
              "\t<tr><th scope=row>4</th><td>PRC01 01</td><td>Practical (Internal)</td><td>Thu</td><td>GP D413</td><td>35</td><td>Narayan Srinivasan</td><td>16</td><td>18</td></tr>\n",
              "\t<tr><th scope=row>7</th><td>PRC01 07</td><td>Practical (Internal)</td><td>Thu</td><td>GP S520</td><td>25</td><td>Ryan Kelly        </td><td>14</td><td>16</td></tr>\n",
              "\t<tr><th scope=row>10</th><td>PRC01 04</td><td>Practical (Internal)</td><td>Fri</td><td>GP G216</td><td>35</td><td>Arwen Nugteren    </td><td>11</td><td>13</td></tr>\n",
              "\t<tr><th scope=row>11</th><td>PRC01 05</td><td>Practical (Internal)</td><td>Fri</td><td>GP S502</td><td>35</td><td>Arwen Nugteren    </td><td>15</td><td>17</td></tr>\n",
              "\t<tr><th scope=row>12</th><td>PRC01 06</td><td>Practical (Internal)</td><td>Fri</td><td>GP S519</td><td>35</td><td>Minh Long Nguyen  </td><td>15</td><td>17</td></tr>\n",
              "</tbody>\n",
              "</table>\n"
            ],
            "text/markdown": "\nA data.frame: 5 × 8\n\n| <!--/--> | Class &lt;chr&gt; | Type &lt;chr&gt; | Day &lt;chr&gt; | Location &lt;chr&gt; | Limit &lt;int&gt; | Teaching_Staff &lt;chr&gt; | From &lt;int&gt; | To &lt;int&gt; |\n|---|---|---|---|---|---|---|---|---|\n| 4 | PRC01 01 | Practical (Internal) | Thu | GP D413 | 35 | Narayan Srinivasan | 16 | 18 |\n| 7 | PRC01 07 | Practical (Internal) | Thu | GP S520 | 25 | Ryan Kelly         | 14 | 16 |\n| 10 | PRC01 04 | Practical (Internal) | Fri | GP G216 | 35 | Arwen Nugteren     | 11 | 13 |\n| 11 | PRC01 05 | Practical (Internal) | Fri | GP S502 | 35 | Arwen Nugteren     | 15 | 17 |\n| 12 | PRC01 06 | Practical (Internal) | Fri | GP S519 | 35 | Minh Long Nguyen   | 15 | 17 |\n\n",
            "text/latex": "A data.frame: 5 × 8\n\\begin{tabular}{r|llllllll}\n  & Class & Type & Day & Location & Limit & Teaching\\_Staff & From & To\\\\\n  & <chr> & <chr> & <chr> & <chr> & <int> & <chr> & <int> & <int>\\\\\n\\hline\n\t4 & PRC01 01 & Practical (Internal) & Thu & GP D413 & 35 & Narayan Srinivasan & 16 & 18\\\\\n\t7 & PRC01 07 & Practical (Internal) & Thu & GP S520 & 25 & Ryan Kelly         & 14 & 16\\\\\n\t10 & PRC01 04 & Practical (Internal) & Fri & GP G216 & 35 & Arwen Nugteren     & 11 & 13\\\\\n\t11 & PRC01 05 & Practical (Internal) & Fri & GP S502 & 35 & Arwen Nugteren     & 15 & 17\\\\\n\t12 & PRC01 06 & Practical (Internal) & Fri & GP S519 & 35 & Minh Long Nguyen   & 15 & 17\\\\\n\\end{tabular}\n",
            "text/plain": [
              "   Class    Type                 Day Location Limit Teaching_Staff     From To\n",
              "4  PRC01 01 Practical (Internal) Thu GP D413  35    Narayan Srinivasan 16   18\n",
              "7  PRC01 07 Practical (Internal) Thu GP S520  25    Ryan Kelly         14   16\n",
              "10 PRC01 04 Practical (Internal) Fri GP G216  35    Arwen Nugteren     11   13\n",
              "11 PRC01 05 Practical (Internal) Fri GP S502  35    Arwen Nugteren     15   17\n",
              "12 PRC01 06 Practical (Internal) Fri GP S519  35    Minh Long Nguyen   15   17"
            ]
          },
          "metadata": {}
        },
        {
          "output_type": "stream",
          "name": "stdout",
          "text": [
            "     Class                 Type Day Location Limit     Teaching_Staff From To\n",
            "1 PRC01 01 Practical (Internal) Thu  GP D413    35 Narayan Srinivasan   16 18\n",
            "2 PRC01 07 Practical (Internal) Thu  GP S520    25         Ryan Kelly   14 16\n",
            "3 PRC01 04 Practical (Internal) Fri  GP G216    35     Arwen Nugteren   11 13\n",
            "4 PRC01 05 Practical (Internal) Fri  GP S502    35     Arwen Nugteren   15 17\n",
            "5 PRC01 06 Practical (Internal) Fri  GP S519    35   Minh Long Nguyen   15 17\n"
          ]
        }
      ]
    },
    {
      "cell_type": "markdown",
      "source": [
        "### **Defining a Data-Processing Pipeline**"
      ],
      "metadata": {
        "id": "flAHCF5K49xU"
      }
    },
    {
      "cell_type": "markdown",
      "source": [
        "The `dplyr` and `magrittr` packages simplify and streamline data manipulation by providing a data-processing pipeline.\n",
        "\n",
        "When we write\n",
        "\n",
        "```\n",
        "input %>% do_something_1() %>% do_something_2()\n",
        "```\n",
        "\n",
        "The pipe operator %>% takes the output from the expression on the left and passes it as the **first argument** to the function on the right. This allows chaining multiple operations in a clear, readable sequence.\n",
        "\n",
        "\n",
        "In base R, it would be something like\n",
        "\n",
        "```\n",
        "output1 = do_something_1(input)\n",
        "output2 = do_something_2(output1)\n",
        "```\n",
        "Which one looks better to you?\n",
        "\n",
        "\n"
      ],
      "metadata": {
        "id": "cja8GasJv0Z0"
      }
    },
    {
      "cell_type": "markdown",
      "source": [
        "Another great feature of `dplyr` is that it natively understands data frame columns by internally converting data frames into **tibbles** — a more user-friendly data frame format.\n",
        "\n",
        "This means we don’t need to repeatedly write `MXB107_Info$From` or similar; inside `dplyr` **verbs** like `filter()`, we can simply refer to columns by their names, such as `From` and `To`, which makes the code much cleaner and easier to read."
      ],
      "metadata": {
        "id": "RUMFO_n3wua5"
      }
    },
    {
      "cell_type": "code",
      "source": [
        "MXB107_Info %>%\n",
        "  filter(Location != \"Online\",\n",
        "         Day %in% c(\"Thu\", \"Fri\"),\n",
        "         From > 9) -> results\n",
        "print(results)\n",
        "\n",
        "### giải thích: cái hàm filter là cách dùng sẽ là filter(dataFrame, con1, con2, ...)\n",
        "### ở ví dụ trên thì MXB107_Info đã được truyền vào phần dataFrame của filter rồi do có dùng %>%\n",
        "### xong là gán tất cả vào results, gán ở đây là gán từ phần MXB107 tới > 9) đó nghe"
      ],
      "metadata": {
        "id": "WQJnhRq9widR",
        "colab": {
          "base_uri": "https://localhost:8080/"
        },
        "outputId": "cba6082a-e727-4614-8b76-138344dbcf6c"
      },
      "execution_count": 7,
      "outputs": [
        {
          "output_type": "stream",
          "name": "stdout",
          "text": [
            "     Class                 Type Day Location Limit     Teaching_Staff From To\n",
            "1 PRC01 01 Practical (Internal) Thu  GP D413    35 Narayan Srinivasan   16 18\n",
            "2 PRC01 07 Practical (Internal) Thu  GP S520    25         Ryan Kelly   14 16\n",
            "3 PRC01 04 Practical (Internal) Fri  GP G216    35     Arwen Nugteren   11 13\n",
            "4 PRC01 05 Practical (Internal) Fri  GP S502    35     Arwen Nugteren   15 17\n",
            "5 PRC01 06 Practical (Internal) Fri  GP S519    35   Minh Long Nguyen   15 17\n"
          ]
        }
      ]
    },
    {
      "cell_type": "markdown",
      "source": [
        "That indeed looks much better! Here the right-arrow assignment operator really shines."
      ],
      "metadata": {
        "id": "IQOAsxVjx24d"
      }
    },
    {
      "cell_type": "markdown",
      "source": [
        "### **Common `dplyr` Verbs**"
      ],
      "metadata": {
        "id": "VRSzUT_0yvhv"
      }
    },
    {
      "cell_type": "markdown",
      "source": [
        "#### **`filter()` — subset rows by condition**"
      ],
      "metadata": {
        "id": "W1k9_qk5zNLJ"
      }
    },
    {
      "cell_type": "markdown",
      "source": [
        "Which sessions are classified as internal lectures in the schedule?"
      ],
      "metadata": {
        "id": "qayAmuB7JFFy"
      }
    },
    {
      "cell_type": "code",
      "source": [
        "MXB107_Info %>%\n",
        "  filter(Type == \"Lecture (Internal)\")\n",
        "\n",
        "### hoặc là\n",
        "filter(MXB107_Info, Type == \"Lecture (Internal)\")\n",
        "### hoặc\n",
        "filter(MXB107_Info, str_detect(Type, \"Lecture\"))"
      ],
      "metadata": {
        "id": "1r4z-sXbzPC8",
        "colab": {
          "base_uri": "https://localhost:8080/",
          "height": 385
        },
        "outputId": "cde74b78-c3d2-41e2-d7d1-e0232e1abdd2"
      },
      "execution_count": 12,
      "outputs": [
        {
          "output_type": "display_data",
          "data": {
            "text/html": [
              "<table class=\"dataframe\">\n",
              "<caption>A data.frame: 1 × 8</caption>\n",
              "<thead>\n",
              "\t<tr><th scope=col>Class</th><th scope=col>Type</th><th scope=col>Day</th><th scope=col>Location</th><th scope=col>Limit</th><th scope=col>Teaching_Staff</th><th scope=col>From</th><th scope=col>To</th></tr>\n",
              "\t<tr><th scope=col>&lt;chr&gt;</th><th scope=col>&lt;chr&gt;</th><th scope=col>&lt;chr&gt;</th><th scope=col>&lt;chr&gt;</th><th scope=col>&lt;int&gt;</th><th scope=col>&lt;chr&gt;</th><th scope=col>&lt;int&gt;</th><th scope=col>&lt;int&gt;</th></tr>\n",
              "</thead>\n",
              "<tbody>\n",
              "\t<tr><td>LEC01 01</td><td>Lecture (Internal)</td><td>Wed</td><td>GP B117</td><td>240</td><td>Chris Drovandi</td><td>11</td><td>13</td></tr>\n",
              "</tbody>\n",
              "</table>\n"
            ],
            "text/markdown": "\nA data.frame: 1 × 8\n\n| Class &lt;chr&gt; | Type &lt;chr&gt; | Day &lt;chr&gt; | Location &lt;chr&gt; | Limit &lt;int&gt; | Teaching_Staff &lt;chr&gt; | From &lt;int&gt; | To &lt;int&gt; |\n|---|---|---|---|---|---|---|---|\n| LEC01 01 | Lecture (Internal) | Wed | GP B117 | 240 | Chris Drovandi | 11 | 13 |\n\n",
            "text/latex": "A data.frame: 1 × 8\n\\begin{tabular}{llllllll}\n Class & Type & Day & Location & Limit & Teaching\\_Staff & From & To\\\\\n <chr> & <chr> & <chr> & <chr> & <int> & <chr> & <int> & <int>\\\\\n\\hline\n\t LEC01 01 & Lecture (Internal) & Wed & GP B117 & 240 & Chris Drovandi & 11 & 13\\\\\n\\end{tabular}\n",
            "text/plain": [
              "  Class    Type               Day Location Limit Teaching_Staff From To\n",
              "1 LEC01 01 Lecture (Internal) Wed GP B117  240   Chris Drovandi 11   13"
            ]
          },
          "metadata": {}
        },
        {
          "output_type": "display_data",
          "data": {
            "text/html": [
              "<table class=\"dataframe\">\n",
              "<caption>A data.frame: 1 × 8</caption>\n",
              "<thead>\n",
              "\t<tr><th scope=col>Class</th><th scope=col>Type</th><th scope=col>Day</th><th scope=col>Location</th><th scope=col>Limit</th><th scope=col>Teaching_Staff</th><th scope=col>From</th><th scope=col>To</th></tr>\n",
              "\t<tr><th scope=col>&lt;chr&gt;</th><th scope=col>&lt;chr&gt;</th><th scope=col>&lt;chr&gt;</th><th scope=col>&lt;chr&gt;</th><th scope=col>&lt;int&gt;</th><th scope=col>&lt;chr&gt;</th><th scope=col>&lt;int&gt;</th><th scope=col>&lt;int&gt;</th></tr>\n",
              "</thead>\n",
              "<tbody>\n",
              "\t<tr><td>LEC01 01</td><td>Lecture (Internal)</td><td>Wed</td><td>GP B117</td><td>240</td><td>Chris Drovandi</td><td>11</td><td>13</td></tr>\n",
              "</tbody>\n",
              "</table>\n"
            ],
            "text/markdown": "\nA data.frame: 1 × 8\n\n| Class &lt;chr&gt; | Type &lt;chr&gt; | Day &lt;chr&gt; | Location &lt;chr&gt; | Limit &lt;int&gt; | Teaching_Staff &lt;chr&gt; | From &lt;int&gt; | To &lt;int&gt; |\n|---|---|---|---|---|---|---|---|\n| LEC01 01 | Lecture (Internal) | Wed | GP B117 | 240 | Chris Drovandi | 11 | 13 |\n\n",
            "text/latex": "A data.frame: 1 × 8\n\\begin{tabular}{llllllll}\n Class & Type & Day & Location & Limit & Teaching\\_Staff & From & To\\\\\n <chr> & <chr> & <chr> & <chr> & <int> & <chr> & <int> & <int>\\\\\n\\hline\n\t LEC01 01 & Lecture (Internal) & Wed & GP B117 & 240 & Chris Drovandi & 11 & 13\\\\\n\\end{tabular}\n",
            "text/plain": [
              "  Class    Type               Day Location Limit Teaching_Staff From To\n",
              "1 LEC01 01 Lecture (Internal) Wed GP B117  240   Chris Drovandi 11   13"
            ]
          },
          "metadata": {}
        },
        {
          "output_type": "display_data",
          "data": {
            "text/html": [
              "<table class=\"dataframe\">\n",
              "<caption>A data.frame: 2 × 8</caption>\n",
              "<thead>\n",
              "\t<tr><th scope=col>Class</th><th scope=col>Type</th><th scope=col>Day</th><th scope=col>Location</th><th scope=col>Limit</th><th scope=col>Teaching_Staff</th><th scope=col>From</th><th scope=col>To</th></tr>\n",
              "\t<tr><th scope=col>&lt;chr&gt;</th><th scope=col>&lt;chr&gt;</th><th scope=col>&lt;chr&gt;</th><th scope=col>&lt;chr&gt;</th><th scope=col>&lt;int&gt;</th><th scope=col>&lt;chr&gt;</th><th scope=col>&lt;int&gt;</th><th scope=col>&lt;int&gt;</th></tr>\n",
              "</thead>\n",
              "<tbody>\n",
              "\t<tr><td>LEC01 01</td><td>Lecture (Internal)</td><td>Wed</td><td>GP B117</td><td> 240</td><td>Chris Drovandi</td><td>11</td><td>13</td></tr>\n",
              "\t<tr><td>LEC01 01</td><td>Lecture (Online)  </td><td>Wed</td><td>Online </td><td>1000</td><td>Chris Drovandi</td><td>11</td><td>13</td></tr>\n",
              "</tbody>\n",
              "</table>\n"
            ],
            "text/markdown": "\nA data.frame: 2 × 8\n\n| Class &lt;chr&gt; | Type &lt;chr&gt; | Day &lt;chr&gt; | Location &lt;chr&gt; | Limit &lt;int&gt; | Teaching_Staff &lt;chr&gt; | From &lt;int&gt; | To &lt;int&gt; |\n|---|---|---|---|---|---|---|---|\n| LEC01 01 | Lecture (Internal) | Wed | GP B117 |  240 | Chris Drovandi | 11 | 13 |\n| LEC01 01 | Lecture (Online)   | Wed | Online  | 1000 | Chris Drovandi | 11 | 13 |\n\n",
            "text/latex": "A data.frame: 2 × 8\n\\begin{tabular}{llllllll}\n Class & Type & Day & Location & Limit & Teaching\\_Staff & From & To\\\\\n <chr> & <chr> & <chr> & <chr> & <int> & <chr> & <int> & <int>\\\\\n\\hline\n\t LEC01 01 & Lecture (Internal) & Wed & GP B117 &  240 & Chris Drovandi & 11 & 13\\\\\n\t LEC01 01 & Lecture (Online)   & Wed & Online  & 1000 & Chris Drovandi & 11 & 13\\\\\n\\end{tabular}\n",
            "text/plain": [
              "  Class    Type               Day Location Limit Teaching_Staff From To\n",
              "1 LEC01 01 Lecture (Internal) Wed GP B117   240  Chris Drovandi 11   13\n",
              "2 LEC01 01 Lecture (Online)   Wed Online   1000  Chris Drovandi 11   13"
            ]
          },
          "metadata": {}
        }
      ]
    },
    {
      "cell_type": "markdown",
      "source": [
        "Which practical sessions are scheduled on Wednesday?"
      ],
      "metadata": {
        "id": "YX3h4TWLJJOb"
      }
    },
    {
      "cell_type": "code",
      "source": [
        "MXB107_Info %>%\n",
        "  filter(str_detect(Type, \"Practical\"), #base R: str_detect(MXB107_Info$Type, pattern = \"Practical\")\n",
        "         Day == \"Wed\")\n",
        "\n",
        "### Như dưới này là sai vì %in% là tìm kiếm kiểu chính xác luôn chứ đừng hiểu nhầm\n",
        "filter(MXB107_Info, Type %in% \"Pratical\", Day == \"Wed\")\n",
        "\n",
        "### %in% như là == chỉ khác là nó linh hoạt khi so sánh như này: x %in% c(\"A\", \"B\", \"C\")  # kiểm tra x có bằng A hoặc B hoặc C không\n",
        "\n",
        "### như này mới đúng:\n",
        "filter(MXB107_Info, str_detect(Type, \"Practical\"), Day %in% \"Wed\")\n"
      ],
      "metadata": {
        "id": "ESVJtq6oJAFO",
        "colab": {
          "base_uri": "https://localhost:8080/",
          "height": 322
        },
        "outputId": "c43c4179-d2bf-4c2b-abb1-3c1245edc59a"
      },
      "execution_count": 15,
      "outputs": [
        {
          "output_type": "display_data",
          "data": {
            "text/html": [
              "<table class=\"dataframe\">\n",
              "<caption>A data.frame: 1 × 8</caption>\n",
              "<thead>\n",
              "\t<tr><th scope=col>Class</th><th scope=col>Type</th><th scope=col>Day</th><th scope=col>Location</th><th scope=col>Limit</th><th scope=col>Teaching_Staff</th><th scope=col>From</th><th scope=col>To</th></tr>\n",
              "\t<tr><th scope=col>&lt;chr&gt;</th><th scope=col>&lt;chr&gt;</th><th scope=col>&lt;chr&gt;</th><th scope=col>&lt;chr&gt;</th><th scope=col>&lt;int&gt;</th><th scope=col>&lt;chr&gt;</th><th scope=col>&lt;int&gt;</th><th scope=col>&lt;int&gt;</th></tr>\n",
              "</thead>\n",
              "<tbody>\n",
              "\t<tr><td>PRC01 01</td><td>Practical (Online)</td><td>Wed</td><td>Online</td><td>30</td><td>Narayan Srinivasan</td><td>16</td><td>18</td></tr>\n",
              "</tbody>\n",
              "</table>\n"
            ],
            "text/markdown": "\nA data.frame: 1 × 8\n\n| Class &lt;chr&gt; | Type &lt;chr&gt; | Day &lt;chr&gt; | Location &lt;chr&gt; | Limit &lt;int&gt; | Teaching_Staff &lt;chr&gt; | From &lt;int&gt; | To &lt;int&gt; |\n|---|---|---|---|---|---|---|---|\n| PRC01 01 | Practical (Online) | Wed | Online | 30 | Narayan Srinivasan | 16 | 18 |\n\n",
            "text/latex": "A data.frame: 1 × 8\n\\begin{tabular}{llllllll}\n Class & Type & Day & Location & Limit & Teaching\\_Staff & From & To\\\\\n <chr> & <chr> & <chr> & <chr> & <int> & <chr> & <int> & <int>\\\\\n\\hline\n\t PRC01 01 & Practical (Online) & Wed & Online & 30 & Narayan Srinivasan & 16 & 18\\\\\n\\end{tabular}\n",
            "text/plain": [
              "  Class    Type               Day Location Limit Teaching_Staff     From To\n",
              "1 PRC01 01 Practical (Online) Wed Online   30    Narayan Srinivasan 16   18"
            ]
          },
          "metadata": {}
        },
        {
          "output_type": "display_data",
          "data": {
            "text/html": [
              "<table class=\"dataframe\">\n",
              "<caption>A data.frame: 0 × 8</caption>\n",
              "<thead>\n",
              "\t<tr><th scope=col>Class</th><th scope=col>Type</th><th scope=col>Day</th><th scope=col>Location</th><th scope=col>Limit</th><th scope=col>Teaching_Staff</th><th scope=col>From</th><th scope=col>To</th></tr>\n",
              "\t<tr><th scope=col>&lt;chr&gt;</th><th scope=col>&lt;chr&gt;</th><th scope=col>&lt;chr&gt;</th><th scope=col>&lt;chr&gt;</th><th scope=col>&lt;int&gt;</th><th scope=col>&lt;chr&gt;</th><th scope=col>&lt;int&gt;</th><th scope=col>&lt;int&gt;</th></tr>\n",
              "</thead>\n",
              "<tbody>\n",
              "</tbody>\n",
              "</table>\n"
            ],
            "text/markdown": "\nA data.frame: 0 × 8\n\n| Class &lt;chr&gt; | Type &lt;chr&gt; | Day &lt;chr&gt; | Location &lt;chr&gt; | Limit &lt;int&gt; | Teaching_Staff &lt;chr&gt; | From &lt;int&gt; | To &lt;int&gt; |\n|---|---|---|---|---|---|---|---|\n\n",
            "text/latex": "A data.frame: 0 × 8\n\\begin{tabular}{llllllll}\n Class & Type & Day & Location & Limit & Teaching\\_Staff & From & To\\\\\n <chr> & <chr> & <chr> & <chr> & <int> & <chr> & <int> & <int>\\\\\n\\hline\n\\end{tabular}\n",
            "text/plain": [
              "     Class Type Day Location Limit Teaching_Staff From To"
            ]
          },
          "metadata": {}
        },
        {
          "output_type": "display_data",
          "data": {
            "text/html": [
              "<table class=\"dataframe\">\n",
              "<caption>A data.frame: 1 × 8</caption>\n",
              "<thead>\n",
              "\t<tr><th scope=col>Class</th><th scope=col>Type</th><th scope=col>Day</th><th scope=col>Location</th><th scope=col>Limit</th><th scope=col>Teaching_Staff</th><th scope=col>From</th><th scope=col>To</th></tr>\n",
              "\t<tr><th scope=col>&lt;chr&gt;</th><th scope=col>&lt;chr&gt;</th><th scope=col>&lt;chr&gt;</th><th scope=col>&lt;chr&gt;</th><th scope=col>&lt;int&gt;</th><th scope=col>&lt;chr&gt;</th><th scope=col>&lt;int&gt;</th><th scope=col>&lt;int&gt;</th></tr>\n",
              "</thead>\n",
              "<tbody>\n",
              "\t<tr><td>PRC01 01</td><td>Practical (Online)</td><td>Wed</td><td>Online</td><td>30</td><td>Narayan Srinivasan</td><td>16</td><td>18</td></tr>\n",
              "</tbody>\n",
              "</table>\n"
            ],
            "text/markdown": "\nA data.frame: 1 × 8\n\n| Class &lt;chr&gt; | Type &lt;chr&gt; | Day &lt;chr&gt; | Location &lt;chr&gt; | Limit &lt;int&gt; | Teaching_Staff &lt;chr&gt; | From &lt;int&gt; | To &lt;int&gt; |\n|---|---|---|---|---|---|---|---|\n| PRC01 01 | Practical (Online) | Wed | Online | 30 | Narayan Srinivasan | 16 | 18 |\n\n",
            "text/latex": "A data.frame: 1 × 8\n\\begin{tabular}{llllllll}\n Class & Type & Day & Location & Limit & Teaching\\_Staff & From & To\\\\\n <chr> & <chr> & <chr> & <chr> & <int> & <chr> & <int> & <int>\\\\\n\\hline\n\t PRC01 01 & Practical (Online) & Wed & Online & 30 & Narayan Srinivasan & 16 & 18\\\\\n\\end{tabular}\n",
            "text/plain": [
              "  Class    Type               Day Location Limit Teaching_Staff     From To\n",
              "1 PRC01 01 Practical (Online) Wed Online   30    Narayan Srinivasan 16   18"
            ]
          },
          "metadata": {}
        }
      ]
    },
    {
      "cell_type": "markdown",
      "source": [
        "#### **`select()` — pick specific columns**"
      ],
      "metadata": {
        "id": "bQSJPdbu4B6l"
      }
    },
    {
      "cell_type": "markdown",
      "source": [
        "Which classes does Chris Drovandi teach, and when and where are they scheduled?"
      ],
      "metadata": {
        "id": "r4Y2O9bKI9Wd"
      }
    },
    {
      "cell_type": "code",
      "source": [
        "MXB107_Info %>%\n",
        "  filter(Teaching_Staff == \"Chris Drovandi\") %>%\n",
        "  select(Class, Teaching_Staff, Day, Location, From, To)\n",
        "\n",
        "\n",
        "### filter dataFrame về Chris Drovandi trước rồi mới chọn cột từ đó\n",
        "\n",
        "### cách viết rối rắm hơn theo kiểu python :)\n",
        "\n",
        "filter_data = filter(MXB107_Info, Teaching_Staff == \"Chris Drovandi\")\n",
        "select(filter_data, Class, Teaching_Staff, Day, Location, From, To )"
      ],
      "metadata": {
        "id": "SnHV8C4G4NVC",
        "colab": {
          "base_uri": "https://localhost:8080/",
          "height": 304
        },
        "outputId": "72bfe834-a5ed-42d3-cc89-baded09895fe"
      },
      "execution_count": 17,
      "outputs": [
        {
          "output_type": "display_data",
          "data": {
            "text/html": [
              "<table class=\"dataframe\">\n",
              "<caption>A data.frame: 2 × 6</caption>\n",
              "<thead>\n",
              "\t<tr><th scope=col>Class</th><th scope=col>Teaching_Staff</th><th scope=col>Day</th><th scope=col>Location</th><th scope=col>From</th><th scope=col>To</th></tr>\n",
              "\t<tr><th scope=col>&lt;chr&gt;</th><th scope=col>&lt;chr&gt;</th><th scope=col>&lt;chr&gt;</th><th scope=col>&lt;chr&gt;</th><th scope=col>&lt;int&gt;</th><th scope=col>&lt;int&gt;</th></tr>\n",
              "</thead>\n",
              "<tbody>\n",
              "\t<tr><td>LEC01 01</td><td>Chris Drovandi</td><td>Wed</td><td>GP B117</td><td>11</td><td>13</td></tr>\n",
              "\t<tr><td>LEC01 01</td><td>Chris Drovandi</td><td>Wed</td><td>Online </td><td>11</td><td>13</td></tr>\n",
              "</tbody>\n",
              "</table>\n"
            ],
            "text/markdown": "\nA data.frame: 2 × 6\n\n| Class &lt;chr&gt; | Teaching_Staff &lt;chr&gt; | Day &lt;chr&gt; | Location &lt;chr&gt; | From &lt;int&gt; | To &lt;int&gt; |\n|---|---|---|---|---|---|\n| LEC01 01 | Chris Drovandi | Wed | GP B117 | 11 | 13 |\n| LEC01 01 | Chris Drovandi | Wed | Online  | 11 | 13 |\n\n",
            "text/latex": "A data.frame: 2 × 6\n\\begin{tabular}{llllll}\n Class & Teaching\\_Staff & Day & Location & From & To\\\\\n <chr> & <chr> & <chr> & <chr> & <int> & <int>\\\\\n\\hline\n\t LEC01 01 & Chris Drovandi & Wed & GP B117 & 11 & 13\\\\\n\t LEC01 01 & Chris Drovandi & Wed & Online  & 11 & 13\\\\\n\\end{tabular}\n",
            "text/plain": [
              "  Class    Teaching_Staff Day Location From To\n",
              "1 LEC01 01 Chris Drovandi Wed GP B117  11   13\n",
              "2 LEC01 01 Chris Drovandi Wed Online   11   13"
            ]
          },
          "metadata": {}
        },
        {
          "output_type": "display_data",
          "data": {
            "text/html": [
              "<table class=\"dataframe\">\n",
              "<caption>A data.frame: 2 × 6</caption>\n",
              "<thead>\n",
              "\t<tr><th scope=col>Class</th><th scope=col>Teaching_Staff</th><th scope=col>Day</th><th scope=col>Location</th><th scope=col>From</th><th scope=col>To</th></tr>\n",
              "\t<tr><th scope=col>&lt;chr&gt;</th><th scope=col>&lt;chr&gt;</th><th scope=col>&lt;chr&gt;</th><th scope=col>&lt;chr&gt;</th><th scope=col>&lt;int&gt;</th><th scope=col>&lt;int&gt;</th></tr>\n",
              "</thead>\n",
              "<tbody>\n",
              "\t<tr><td>LEC01 01</td><td>Chris Drovandi</td><td>Wed</td><td>GP B117</td><td>11</td><td>13</td></tr>\n",
              "\t<tr><td>LEC01 01</td><td>Chris Drovandi</td><td>Wed</td><td>Online </td><td>11</td><td>13</td></tr>\n",
              "</tbody>\n",
              "</table>\n"
            ],
            "text/markdown": "\nA data.frame: 2 × 6\n\n| Class &lt;chr&gt; | Teaching_Staff &lt;chr&gt; | Day &lt;chr&gt; | Location &lt;chr&gt; | From &lt;int&gt; | To &lt;int&gt; |\n|---|---|---|---|---|---|\n| LEC01 01 | Chris Drovandi | Wed | GP B117 | 11 | 13 |\n| LEC01 01 | Chris Drovandi | Wed | Online  | 11 | 13 |\n\n",
            "text/latex": "A data.frame: 2 × 6\n\\begin{tabular}{llllll}\n Class & Teaching\\_Staff & Day & Location & From & To\\\\\n <chr> & <chr> & <chr> & <chr> & <int> & <int>\\\\\n\\hline\n\t LEC01 01 & Chris Drovandi & Wed & GP B117 & 11 & 13\\\\\n\t LEC01 01 & Chris Drovandi & Wed & Online  & 11 & 13\\\\\n\\end{tabular}\n",
            "text/plain": [
              "  Class    Teaching_Staff Day Location From To\n",
              "1 LEC01 01 Chris Drovandi Wed GP B117  11   13\n",
              "2 LEC01 01 Chris Drovandi Wed Online   11   13"
            ]
          },
          "metadata": {}
        }
      ]
    },
    {
      "cell_type": "markdown",
      "source": [
        "#### **`mutate()` — add or modify columns**"
      ],
      "metadata": {
        "id": "-RYn41g24g-8"
      }
    },
    {
      "cell_type": "markdown",
      "source": [
        "How long is each Wednesday session, and what are their other scheduled details?"
      ],
      "metadata": {
        "id": "Xsa7fFxhIuPC"
      }
    },
    {
      "cell_type": "code",
      "source": [
        "MXB107_Info %>%\n",
        "  filter(Day == \"Wed\") %>%\n",
        "  mutate(Duration = To-From)\n",
        "\n",
        "### Đơn giản mutate chỉ là sửa hoặc thêm cột th\n",
        "### Như ở trên là mutate là thêm cột duration cái giá trị được tạo bằng to trừ to from\n",
        "### Như này thì nó không thay đổi data gốc của MXB_107 trừ khi bạn tạo ra một dataFrame mới rồi gán vào"
      ],
      "metadata": {
        "id": "u0_jhNQz4vvh",
        "colab": {
          "base_uri": "https://localhost:8080/",
          "height": 192
        },
        "outputId": "92ef156e-0592-46e0-b59d-96c50f55205e"
      },
      "execution_count": 18,
      "outputs": [
        {
          "output_type": "display_data",
          "data": {
            "text/html": [
              "<table class=\"dataframe\">\n",
              "<caption>A data.frame: 3 × 9</caption>\n",
              "<thead>\n",
              "\t<tr><th scope=col>Class</th><th scope=col>Type</th><th scope=col>Day</th><th scope=col>Location</th><th scope=col>Limit</th><th scope=col>Teaching_Staff</th><th scope=col>From</th><th scope=col>To</th><th scope=col>Duration</th></tr>\n",
              "\t<tr><th scope=col>&lt;chr&gt;</th><th scope=col>&lt;chr&gt;</th><th scope=col>&lt;chr&gt;</th><th scope=col>&lt;chr&gt;</th><th scope=col>&lt;int&gt;</th><th scope=col>&lt;chr&gt;</th><th scope=col>&lt;int&gt;</th><th scope=col>&lt;int&gt;</th><th scope=col>&lt;int&gt;</th></tr>\n",
              "</thead>\n",
              "<tbody>\n",
              "\t<tr><td>LEC01 01</td><td>Lecture (Internal)</td><td>Wed</td><td>GP B117</td><td> 240</td><td>Chris Drovandi    </td><td>11</td><td>13</td><td>2</td></tr>\n",
              "\t<tr><td>LEC01 01</td><td>Lecture (Online)  </td><td>Wed</td><td>Online </td><td>1000</td><td>Chris Drovandi    </td><td>11</td><td>13</td><td>2</td></tr>\n",
              "\t<tr><td>PRC01 01</td><td>Practical (Online)</td><td>Wed</td><td>Online </td><td>  30</td><td>Narayan Srinivasan</td><td>16</td><td>18</td><td>2</td></tr>\n",
              "</tbody>\n",
              "</table>\n"
            ],
            "text/markdown": "\nA data.frame: 3 × 9\n\n| Class &lt;chr&gt; | Type &lt;chr&gt; | Day &lt;chr&gt; | Location &lt;chr&gt; | Limit &lt;int&gt; | Teaching_Staff &lt;chr&gt; | From &lt;int&gt; | To &lt;int&gt; | Duration &lt;int&gt; |\n|---|---|---|---|---|---|---|---|---|\n| LEC01 01 | Lecture (Internal) | Wed | GP B117 |  240 | Chris Drovandi     | 11 | 13 | 2 |\n| LEC01 01 | Lecture (Online)   | Wed | Online  | 1000 | Chris Drovandi     | 11 | 13 | 2 |\n| PRC01 01 | Practical (Online) | Wed | Online  |   30 | Narayan Srinivasan | 16 | 18 | 2 |\n\n",
            "text/latex": "A data.frame: 3 × 9\n\\begin{tabular}{lllllllll}\n Class & Type & Day & Location & Limit & Teaching\\_Staff & From & To & Duration\\\\\n <chr> & <chr> & <chr> & <chr> & <int> & <chr> & <int> & <int> & <int>\\\\\n\\hline\n\t LEC01 01 & Lecture (Internal) & Wed & GP B117 &  240 & Chris Drovandi     & 11 & 13 & 2\\\\\n\t LEC01 01 & Lecture (Online)   & Wed & Online  & 1000 & Chris Drovandi     & 11 & 13 & 2\\\\\n\t PRC01 01 & Practical (Online) & Wed & Online  &   30 & Narayan Srinivasan & 16 & 18 & 2\\\\\n\\end{tabular}\n",
            "text/plain": [
              "  Class    Type               Day Location Limit Teaching_Staff     From To\n",
              "1 LEC01 01 Lecture (Internal) Wed GP B117   240  Chris Drovandi     11   13\n",
              "2 LEC01 01 Lecture (Online)   Wed Online   1000  Chris Drovandi     11   13\n",
              "3 PRC01 01 Practical (Online) Wed Online     30  Narayan Srinivasan 16   18\n",
              "  Duration\n",
              "1 2       \n",
              "2 2       \n",
              "3 2       "
            ]
          },
          "metadata": {}
        }
      ]
    },
    {
      "cell_type": "markdown",
      "source": [
        "#### **`arrange()` — reorder rows by column(s)**"
      ],
      "metadata": {
        "id": "1mI7Sa405L6h"
      }
    },
    {
      "cell_type": "markdown",
      "source": [
        "Which sessions are scheduled on Wednesday, and how do they compare in the number of scheduled students (`Limit`), arranged from smallest to largest?"
      ],
      "metadata": {
        "id": "gUjojbU0IaJ5"
      }
    },
    {
      "cell_type": "code",
      "source": [
        "MXB107_Info %>%\n",
        "  filter(Day == \"Wed\") %>%\n",
        "  arrange(Limit) #Ascending order\n",
        "\n",
        "### Cái arrange này thì xếp theo Limit"
      ],
      "metadata": {
        "id": "1mjNnDb65i5X",
        "colab": {
          "base_uri": "https://localhost:8080/",
          "height": 192
        },
        "outputId": "f5b88ae5-01a7-4799-e404-afecd63d0c41"
      },
      "execution_count": 19,
      "outputs": [
        {
          "output_type": "display_data",
          "data": {
            "text/html": [
              "<table class=\"dataframe\">\n",
              "<caption>A data.frame: 3 × 8</caption>\n",
              "<thead>\n",
              "\t<tr><th scope=col>Class</th><th scope=col>Type</th><th scope=col>Day</th><th scope=col>Location</th><th scope=col>Limit</th><th scope=col>Teaching_Staff</th><th scope=col>From</th><th scope=col>To</th></tr>\n",
              "\t<tr><th scope=col>&lt;chr&gt;</th><th scope=col>&lt;chr&gt;</th><th scope=col>&lt;chr&gt;</th><th scope=col>&lt;chr&gt;</th><th scope=col>&lt;int&gt;</th><th scope=col>&lt;chr&gt;</th><th scope=col>&lt;int&gt;</th><th scope=col>&lt;int&gt;</th></tr>\n",
              "</thead>\n",
              "<tbody>\n",
              "\t<tr><td>PRC01 01</td><td>Practical (Online)</td><td>Wed</td><td>Online </td><td>  30</td><td>Narayan Srinivasan</td><td>16</td><td>18</td></tr>\n",
              "\t<tr><td>LEC01 01</td><td>Lecture (Internal)</td><td>Wed</td><td>GP B117</td><td> 240</td><td>Chris Drovandi    </td><td>11</td><td>13</td></tr>\n",
              "\t<tr><td>LEC01 01</td><td>Lecture (Online)  </td><td>Wed</td><td>Online </td><td>1000</td><td>Chris Drovandi    </td><td>11</td><td>13</td></tr>\n",
              "</tbody>\n",
              "</table>\n"
            ],
            "text/markdown": "\nA data.frame: 3 × 8\n\n| Class &lt;chr&gt; | Type &lt;chr&gt; | Day &lt;chr&gt; | Location &lt;chr&gt; | Limit &lt;int&gt; | Teaching_Staff &lt;chr&gt; | From &lt;int&gt; | To &lt;int&gt; |\n|---|---|---|---|---|---|---|---|\n| PRC01 01 | Practical (Online) | Wed | Online  |   30 | Narayan Srinivasan | 16 | 18 |\n| LEC01 01 | Lecture (Internal) | Wed | GP B117 |  240 | Chris Drovandi     | 11 | 13 |\n| LEC01 01 | Lecture (Online)   | Wed | Online  | 1000 | Chris Drovandi     | 11 | 13 |\n\n",
            "text/latex": "A data.frame: 3 × 8\n\\begin{tabular}{llllllll}\n Class & Type & Day & Location & Limit & Teaching\\_Staff & From & To\\\\\n <chr> & <chr> & <chr> & <chr> & <int> & <chr> & <int> & <int>\\\\\n\\hline\n\t PRC01 01 & Practical (Online) & Wed & Online  &   30 & Narayan Srinivasan & 16 & 18\\\\\n\t LEC01 01 & Lecture (Internal) & Wed & GP B117 &  240 & Chris Drovandi     & 11 & 13\\\\\n\t LEC01 01 & Lecture (Online)   & Wed & Online  & 1000 & Chris Drovandi     & 11 & 13\\\\\n\\end{tabular}\n",
            "text/plain": [
              "  Class    Type               Day Location Limit Teaching_Staff     From To\n",
              "1 PRC01 01 Practical (Online) Wed Online     30  Narayan Srinivasan 16   18\n",
              "2 LEC01 01 Lecture (Internal) Wed GP B117   240  Chris Drovandi     11   13\n",
              "3 LEC01 01 Lecture (Online)   Wed Online   1000  Chris Drovandi     11   13"
            ]
          },
          "metadata": {}
        }
      ]
    },
    {
      "cell_type": "markdown",
      "source": [
        "#### **`group_by()` and `summarise()` — group data and aggregate**"
      ],
      "metadata": {
        "id": "R2w3FCCU52FL"
      }
    },
    {
      "cell_type": "markdown",
      "source": [
        "For each day of the week, how many students are scheduled in total, what is the average number of students per session, and how many sessions are there?"
      ],
      "metadata": {
        "id": "bzYtPiVrIIfb"
      }
    },
    {
      "cell_type": "code",
      "source": [
        "MXB107_Info %>%\n",
        "  group_by(Day) %>%\n",
        "  summarise(totalLimit = sum(Limit),\n",
        "            averageLimit = mean(Limit),\n",
        "            Count = n(),\n",
        "            .groups = \"drop\") #Set `.group = \"drop\"` after completion.\n",
        "\n",
        "### cái này thì nhớ .groups để ungroup chứ không là cái dataFrame này sẽ bị thay đổi theo cái group là mấy cái thao tác sau sẽ rối vl\n",
        "### thôi thì khi nào dùng group_by thì thêm cái .groups = \"drop\" cho lành\n"
      ],
      "metadata": {
        "id": "Iif0gg-z55MN",
        "colab": {
          "base_uri": "https://localhost:8080/",
          "height": 192
        },
        "outputId": "cd0a8081-b490-4f5b-f927-1aa966df05cc"
      },
      "execution_count": 23,
      "outputs": [
        {
          "output_type": "display_data",
          "data": {
            "text/html": [
              "<table class=\"dataframe\">\n",
              "<caption>A tibble: 3 × 4</caption>\n",
              "<thead>\n",
              "\t<tr><th scope=col>Day</th><th scope=col>totalLimit</th><th scope=col>averageLimit</th><th scope=col>Count</th></tr>\n",
              "\t<tr><th scope=col>&lt;chr&gt;</th><th scope=col>&lt;int&gt;</th><th scope=col>&lt;dbl&gt;</th><th scope=col>&lt;int&gt;</th></tr>\n",
              "</thead>\n",
              "<tbody>\n",
              "\t<tr><td>Fri</td><td> 140</td><td> 35.0000</td><td>4</td></tr>\n",
              "\t<tr><td>Thu</td><td> 155</td><td> 31.0000</td><td>5</td></tr>\n",
              "\t<tr><td>Wed</td><td>1270</td><td>423.3333</td><td>3</td></tr>\n",
              "</tbody>\n",
              "</table>\n"
            ],
            "text/markdown": "\nA tibble: 3 × 4\n\n| Day &lt;chr&gt; | totalLimit &lt;int&gt; | averageLimit &lt;dbl&gt; | Count &lt;int&gt; |\n|---|---|---|---|\n| Fri |  140 |  35.0000 | 4 |\n| Thu |  155 |  31.0000 | 5 |\n| Wed | 1270 | 423.3333 | 3 |\n\n",
            "text/latex": "A tibble: 3 × 4\n\\begin{tabular}{llll}\n Day & totalLimit & averageLimit & Count\\\\\n <chr> & <int> & <dbl> & <int>\\\\\n\\hline\n\t Fri &  140 &  35.0000 & 4\\\\\n\t Thu &  155 &  31.0000 & 5\\\\\n\t Wed & 1270 & 423.3333 & 3\\\\\n\\end{tabular}\n",
            "text/plain": [
              "  Day totalLimit averageLimit Count\n",
              "1 Fri  140        35.0000     4    \n",
              "2 Thu  155        31.0000     5    \n",
              "3 Wed 1270       423.3333     3    "
            ]
          },
          "metadata": {}
        }
      ]
    },
    {
      "cell_type": "markdown",
      "source": [
        "#### **`rename()` — rename columns**"
      ],
      "metadata": {
        "id": "eWe0SRE_6MRU"
      }
    },
    {
      "cell_type": "code",
      "source": [
        "MXB107_Info %>%\n",
        "  rename(Start = From, End = To) %>%\n",
        "  head(3)\n",
        "\n",
        "### dễ hiểu thôi, rename thì thay đổi tên cột,"
      ],
      "metadata": {
        "id": "MDVXyib26PE-",
        "colab": {
          "base_uri": "https://localhost:8080/",
          "height": 192
        },
        "outputId": "372da7f0-5910-4bc7-bfbc-fee8f847cf70"
      },
      "execution_count": 24,
      "outputs": [
        {
          "output_type": "display_data",
          "data": {
            "text/html": [
              "<table class=\"dataframe\">\n",
              "<caption>A data.frame: 3 × 8</caption>\n",
              "<thead>\n",
              "\t<tr><th></th><th scope=col>Class</th><th scope=col>Type</th><th scope=col>Day</th><th scope=col>Location</th><th scope=col>Limit</th><th scope=col>Teaching_Staff</th><th scope=col>Start</th><th scope=col>End</th></tr>\n",
              "\t<tr><th></th><th scope=col>&lt;chr&gt;</th><th scope=col>&lt;chr&gt;</th><th scope=col>&lt;chr&gt;</th><th scope=col>&lt;chr&gt;</th><th scope=col>&lt;int&gt;</th><th scope=col>&lt;chr&gt;</th><th scope=col>&lt;int&gt;</th><th scope=col>&lt;int&gt;</th></tr>\n",
              "</thead>\n",
              "<tbody>\n",
              "\t<tr><th scope=row>1</th><td>LEC01 01</td><td>Lecture (Internal)</td><td>Wed</td><td>GP B117</td><td> 240</td><td>Chris Drovandi    </td><td>11</td><td>13</td></tr>\n",
              "\t<tr><th scope=row>2</th><td>LEC01 01</td><td>Lecture (Online)  </td><td>Wed</td><td>Online </td><td>1000</td><td>Chris Drovandi    </td><td>11</td><td>13</td></tr>\n",
              "\t<tr><th scope=row>3</th><td>PRC01 01</td><td>Practical (Online)</td><td>Wed</td><td>Online </td><td>  30</td><td>Narayan Srinivasan</td><td>16</td><td>18</td></tr>\n",
              "</tbody>\n",
              "</table>\n"
            ],
            "text/markdown": "\nA data.frame: 3 × 8\n\n| <!--/--> | Class &lt;chr&gt; | Type &lt;chr&gt; | Day &lt;chr&gt; | Location &lt;chr&gt; | Limit &lt;int&gt; | Teaching_Staff &lt;chr&gt; | Start &lt;int&gt; | End &lt;int&gt; |\n|---|---|---|---|---|---|---|---|---|\n| 1 | LEC01 01 | Lecture (Internal) | Wed | GP B117 |  240 | Chris Drovandi     | 11 | 13 |\n| 2 | LEC01 01 | Lecture (Online)   | Wed | Online  | 1000 | Chris Drovandi     | 11 | 13 |\n| 3 | PRC01 01 | Practical (Online) | Wed | Online  |   30 | Narayan Srinivasan | 16 | 18 |\n\n",
            "text/latex": "A data.frame: 3 × 8\n\\begin{tabular}{r|llllllll}\n  & Class & Type & Day & Location & Limit & Teaching\\_Staff & Start & End\\\\\n  & <chr> & <chr> & <chr> & <chr> & <int> & <chr> & <int> & <int>\\\\\n\\hline\n\t1 & LEC01 01 & Lecture (Internal) & Wed & GP B117 &  240 & Chris Drovandi     & 11 & 13\\\\\n\t2 & LEC01 01 & Lecture (Online)   & Wed & Online  & 1000 & Chris Drovandi     & 11 & 13\\\\\n\t3 & PRC01 01 & Practical (Online) & Wed & Online  &   30 & Narayan Srinivasan & 16 & 18\\\\\n\\end{tabular}\n",
            "text/plain": [
              "  Class    Type               Day Location Limit Teaching_Staff     Start End\n",
              "1 LEC01 01 Lecture (Internal) Wed GP B117   240  Chris Drovandi     11    13 \n",
              "2 LEC01 01 Lecture (Online)   Wed Online   1000  Chris Drovandi     11    13 \n",
              "3 PRC01 01 Practical (Online) Wed Online     30  Narayan Srinivasan 16    18 "
            ]
          },
          "metadata": {}
        }
      ]
    },
    {
      "cell_type": "markdown",
      "source": [
        "#### **`slice()` — select rows by position**"
      ],
      "metadata": {
        "id": "RWWDWYJw50d2"
      }
    },
    {
      "cell_type": "code",
      "source": [
        "MXB107_Info %>%\n",
        "  slice(1:3) #Similar to indexing\n",
        "\n",
        "### này lấy row theo hàng, lấy từ 1 tới 3 nè\n"
      ],
      "metadata": {
        "id": "3agOlPqL6Y-j",
        "colab": {
          "base_uri": "https://localhost:8080/",
          "height": 192
        },
        "outputId": "262956fd-9d20-4947-e249-96a4828a0b8e"
      },
      "execution_count": 25,
      "outputs": [
        {
          "output_type": "display_data",
          "data": {
            "text/html": [
              "<table class=\"dataframe\">\n",
              "<caption>A data.frame: 3 × 8</caption>\n",
              "<thead>\n",
              "\t<tr><th scope=col>Class</th><th scope=col>Type</th><th scope=col>Day</th><th scope=col>Location</th><th scope=col>Limit</th><th scope=col>Teaching_Staff</th><th scope=col>From</th><th scope=col>To</th></tr>\n",
              "\t<tr><th scope=col>&lt;chr&gt;</th><th scope=col>&lt;chr&gt;</th><th scope=col>&lt;chr&gt;</th><th scope=col>&lt;chr&gt;</th><th scope=col>&lt;int&gt;</th><th scope=col>&lt;chr&gt;</th><th scope=col>&lt;int&gt;</th><th scope=col>&lt;int&gt;</th></tr>\n",
              "</thead>\n",
              "<tbody>\n",
              "\t<tr><td>LEC01 01</td><td>Lecture (Internal)</td><td>Wed</td><td>GP B117</td><td> 240</td><td>Chris Drovandi    </td><td>11</td><td>13</td></tr>\n",
              "\t<tr><td>LEC01 01</td><td>Lecture (Online)  </td><td>Wed</td><td>Online </td><td>1000</td><td>Chris Drovandi    </td><td>11</td><td>13</td></tr>\n",
              "\t<tr><td>PRC01 01</td><td>Practical (Online)</td><td>Wed</td><td>Online </td><td>  30</td><td>Narayan Srinivasan</td><td>16</td><td>18</td></tr>\n",
              "</tbody>\n",
              "</table>\n"
            ],
            "text/markdown": "\nA data.frame: 3 × 8\n\n| Class &lt;chr&gt; | Type &lt;chr&gt; | Day &lt;chr&gt; | Location &lt;chr&gt; | Limit &lt;int&gt; | Teaching_Staff &lt;chr&gt; | From &lt;int&gt; | To &lt;int&gt; |\n|---|---|---|---|---|---|---|---|\n| LEC01 01 | Lecture (Internal) | Wed | GP B117 |  240 | Chris Drovandi     | 11 | 13 |\n| LEC01 01 | Lecture (Online)   | Wed | Online  | 1000 | Chris Drovandi     | 11 | 13 |\n| PRC01 01 | Practical (Online) | Wed | Online  |   30 | Narayan Srinivasan | 16 | 18 |\n\n",
            "text/latex": "A data.frame: 3 × 8\n\\begin{tabular}{llllllll}\n Class & Type & Day & Location & Limit & Teaching\\_Staff & From & To\\\\\n <chr> & <chr> & <chr> & <chr> & <int> & <chr> & <int> & <int>\\\\\n\\hline\n\t LEC01 01 & Lecture (Internal) & Wed & GP B117 &  240 & Chris Drovandi     & 11 & 13\\\\\n\t LEC01 01 & Lecture (Online)   & Wed & Online  & 1000 & Chris Drovandi     & 11 & 13\\\\\n\t PRC01 01 & Practical (Online) & Wed & Online  &   30 & Narayan Srinivasan & 16 & 18\\\\\n\\end{tabular}\n",
            "text/plain": [
              "  Class    Type               Day Location Limit Teaching_Staff     From To\n",
              "1 LEC01 01 Lecture (Internal) Wed GP B117   240  Chris Drovandi     11   13\n",
              "2 LEC01 01 Lecture (Online)   Wed Online   1000  Chris Drovandi     11   13\n",
              "3 PRC01 01 Practical (Online) Wed Online     30  Narayan Srinivasan 16   18"
            ]
          },
          "metadata": {}
        }
      ]
    },
    {
      "cell_type": "markdown",
      "source": [
        "Some relevant verbs include:\n",
        "- `slice_max(data, order_by, n)`: extracts the top `n` rows from data with the highest values in the `order_by` column.\n",
        "- `slice_min(data, order_by, n)`: extracts the bottom `n` rows from data with the lowest values in the `order_by` column."
      ],
      "metadata": {
        "id": "8rklFETNo9De"
      }
    },
    {
      "cell_type": "markdown",
      "source": [
        "#### **`distinct()` — get unique rows by columns**\n"
      ],
      "metadata": {
        "id": "ZPQAXSop_ujH"
      }
    },
    {
      "cell_type": "markdown",
      "source": [
        "Who are the unique teaching staff members listed in the dataset?"
      ],
      "metadata": {
        "id": "zeNEellfJXuA"
      }
    },
    {
      "cell_type": "code",
      "source": [
        "MXB107_Info %>%\n",
        "  distinct(Teaching_Staff)\n",
        "\n",
        "### này là liệt kê tất cả các nhân viên có trong dataset, thì dùng dinstinct thôi, tất cả khác biệt\n"
      ],
      "metadata": {
        "id": "O108sJeS_1FG",
        "colab": {
          "base_uri": "https://localhost:8080/",
          "height": 317
        },
        "outputId": "9ef273dc-06bb-44ee-dc12-215ea62a2ba8"
      },
      "execution_count": 27,
      "outputs": [
        {
          "output_type": "display_data",
          "data": {
            "text/html": [
              "<table class=\"dataframe\">\n",
              "<caption>A data.frame: 7 × 1</caption>\n",
              "<thead>\n",
              "\t<tr><th scope=col>Teaching_Staff</th></tr>\n",
              "\t<tr><th scope=col>&lt;chr&gt;</th></tr>\n",
              "</thead>\n",
              "<tbody>\n",
              "\t<tr><td>Chris Drovandi        </td></tr>\n",
              "\t<tr><td>Narayan Srinivasan    </td></tr>\n",
              "\t<tr><td>Oliver Vu             </td></tr>\n",
              "\t<tr><td>Minh Long Nguyen      </td></tr>\n",
              "\t<tr><td>Ryan Kelly            </td></tr>\n",
              "\t<tr><td>Nicholas Gecks-Preston</td></tr>\n",
              "\t<tr><td>Arwen Nugteren        </td></tr>\n",
              "</tbody>\n",
              "</table>\n"
            ],
            "text/markdown": "\nA data.frame: 7 × 1\n\n| Teaching_Staff &lt;chr&gt; |\n|---|\n| Chris Drovandi         |\n| Narayan Srinivasan     |\n| Oliver Vu              |\n| Minh Long Nguyen       |\n| Ryan Kelly             |\n| Nicholas Gecks-Preston |\n| Arwen Nugteren         |\n\n",
            "text/latex": "A data.frame: 7 × 1\n\\begin{tabular}{l}\n Teaching\\_Staff\\\\\n <chr>\\\\\n\\hline\n\t Chris Drovandi        \\\\\n\t Narayan Srinivasan    \\\\\n\t Oliver Vu             \\\\\n\t Minh Long Nguyen      \\\\\n\t Ryan Kelly            \\\\\n\t Nicholas Gecks-Preston\\\\\n\t Arwen Nugteren        \\\\\n\\end{tabular}\n",
            "text/plain": [
              "  Teaching_Staff        \n",
              "1 Chris Drovandi        \n",
              "2 Narayan Srinivasan    \n",
              "3 Oliver Vu             \n",
              "4 Minh Long Nguyen      \n",
              "5 Ryan Kelly            \n",
              "6 Nicholas Gecks-Preston\n",
              "7 Arwen Nugteren        "
            ]
          },
          "metadata": {}
        }
      ]
    },
    {
      "cell_type": "markdown",
      "source": [
        "#### **`pivot_longer()` — reshapes wide-format data into long format**"
      ],
      "metadata": {
        "id": "ljJDelQf6tDP"
      }
    },
    {
      "cell_type": "markdown",
      "source": [
        "We are often more familiar with wide-format data, where each row represents an observation and each column represents a variable or feature.\n",
        "\n",
        "However, in many situations — particularly for modelling, statistical analysis, and plotting — it is more convenient or even required to work with data in long format. In long format, each row corresponds to a single measurement or value, along with its associated identifiers."
      ],
      "metadata": {
        "id": "kPVObkWp6yPS"
      }
    },
    {
      "cell_type": "markdown",
      "source": [
        "For example, this data frame is in wide-format."
      ],
      "metadata": {
        "id": "dIRDN_fT8fON"
      }
    },
    {
      "cell_type": "code",
      "source": [
        "MXB107_Info %>%\n",
        "  select(Class, Type, Day, Teaching_Staff, From, To) %>%\n",
        "  head(3) %>%\n",
        "  mutate(id = row_number())"
      ],
      "metadata": {
        "id": "0m3lUBrl7HkW"
      },
      "execution_count": null,
      "outputs": []
    },
    {
      "cell_type": "markdown",
      "source": [
        "To convert this to long-format, we can use `pivot_longer()`:"
      ],
      "metadata": {
        "id": "Fs9E7k3F7Za1"
      }
    },
    {
      "cell_type": "code",
      "source": [
        "MXB107_Info %>%\n",
        "  select(Class, Teaching_Staff, From, To) %>%\n",
        "  head(3) %>%\n",
        "  mutate(id = row_number()) %>%\n",
        "  pivot_longer(\n",
        "    cols = c(From, To),\n",
        "    names_to = \"timeType\",\n",
        "    values_to = \"Hour\"\n",
        "  )"
      ],
      "metadata": {
        "id": "k9zWy2RT7oJi"
      },
      "execution_count": null,
      "outputs": []
    },
    {
      "cell_type": "markdown",
      "source": [
        "We observe that the number of rows has doubled. This is because the original `From` and `To` columns have been reshaped into a single column called `Hour`, with a corresponding column `timeType` indicating whether the value refers to the start or end time.\n",
        "\n",
        "Instead of storing both `From` and `To` in the same row, each is now represented as a separate row — one for the start time and one for the end time. This structure is characteristic of long format data. If you are familiar with databases, now `<id, timeType>` becomes the new `key` (identifier).\n",
        "\n",
        "Long-format data frames are less memory-efficient but more convenient for many modelling, statistical analysis, and data visualisation tasks."
      ],
      "metadata": {
        "id": "zETVkoNc8z-D"
      }
    },
    {
      "cell_type": "markdown",
      "source": [
        "Suppose you want to predict the 2023 math grades of Alice, Bob, and Jane using `Year` as a predictor. However, the data is currently in wide format (`grade_wide`). This format is not ideal for modelling or prediction tasks where you want to use `Year` as a predictor variable, because each year is a different column instead of being a value in a single variable."
      ],
      "metadata": {
        "id": "I_x0NJDHCO-w"
      }
    },
    {
      "cell_type": "code",
      "source": [
        "grade_wide = data.frame(\n",
        "  Name = c(\"Alice\", \"Bob\", \"Jane\"),\n",
        "  `2020` = c(88, 75, 93),\n",
        "  `2021` = c(90, 78, 95),\n",
        "  `2022` = c(92, 82, 97),\n",
        "   check.names = FALSE\n",
        ")\n",
        "grade_wide"
      ],
      "metadata": {
        "id": "oJSuhUqY-tfr"
      },
      "execution_count": null,
      "outputs": []
    },
    {
      "cell_type": "markdown",
      "source": [
        "Converting the data to the long format simplifies the modelling process. Now you can easily fit a statistical model to predict `Grade` (e.g., `%>% lm(Grade ~ Year + Name)` —  a linear regression model with `Grade` being the response variable and `Name` and `Year` being the predictors)."
      ],
      "metadata": {
        "id": "LiFayu-mCWsg"
      }
    },
    {
      "cell_type": "code",
      "source": [
        "grade_wide %>%\n",
        "  pivot_longer(\n",
        "    cols = `2020`:`2022`,\n",
        "    names_to = \"Year\",\n",
        "    values_to = \"Grade\") %>%\n",
        "  mutate(Year = as.integer(Year))\n"
      ],
      "metadata": {
        "id": "ttDHkwslCbkw"
      },
      "execution_count": null,
      "outputs": []
    },
    {
      "cell_type": "code",
      "source": [],
      "metadata": {
        "id": "lT-8hJwQgKih"
      },
      "execution_count": null,
      "outputs": []
    },
    {
      "cell_type": "code",
      "source": [
        "grade_wide %>%\n",
        "  pivot_longer(\n",
        "    cols = `2020`:`2022`,\n",
        "    names_to = \"Year\",\n",
        "    values_to = \"Grade\") %>%\n",
        "  mutate(Year = as.integer(Year)) %>%\n",
        "  lm(formula = Grade ~ Year + Name) %>%\n",
        "  summary()"
      ],
      "metadata": {
        "id": "d4Pmo0wvEjsF"
      },
      "execution_count": null,
      "outputs": []
    },
    {
      "cell_type": "markdown",
      "source": [
        "A `pivot_wider()` counterpart exists. We will discuss it later."
      ],
      "metadata": {
        "id": "y3n8xZr8D3Bf"
      }
    },
    {
      "cell_type": "markdown",
      "source": [
        "#### **Exercise**\n",
        "\n",
        "How many classes are held online vs in-person for each type (Lecture, Practical)?"
      ],
      "metadata": {
        "id": "JGZIIPPtP2Df"
      }
    },
    {
      "cell_type": "code",
      "source": [],
      "metadata": {
        "id": "X8PMr-LnQECS"
      },
      "execution_count": null,
      "outputs": []
    },
    {
      "cell_type": "markdown",
      "source": [
        "<details>\n",
        "<summary>▶️ Click to show the solution</summary>\n",
        "\n",
        "```r\n",
        "MXB107_Info %>%\n",
        "  mutate(Mode = ifelse(Location == \"Online\", \"Online\", \"In-Person\")) %>%\n",
        "  group_by(Type, Mode) %>%\n",
        "  summarize(Count = n(), .groups = \"drop\") %>%\n",
        "  arrange(Type, Mode)\n",
        "```\n",
        "\n",
        "</details>"
      ],
      "metadata": {
        "id": "8lwozNV7QHmH"
      }
    },
    {
      "cell_type": "markdown",
      "source": [
        "## **Data Visualisation via `ggplot2'**"
      ],
      "metadata": {
        "id": "bIq5oCkyAsCp"
      }
    },
    {
      "cell_type": "markdown",
      "source": [
        "`ggplot2` is a powerful and widely-used R package for data visualisation based on the \"Grammar of Graphics\" concept. It allows you to create complex and elegant plots by layering components step-by-step.\n",
        "\n",
        "Key features of `ggplot2`:\n",
        "\n",
        "- **Layered approach**: Build plots by adding layers like stacking LEGO blocks.\n",
        "- **Consistent syntax**: Uses a clear, declarative style making plots easy to read and modify.\n",
        "- **Highly customisable**: Control every detail of your plot’s appearance.\n",
        "- **Works well with \"tidy\" data**: Designed to work seamlessly with data in long format."
      ],
      "metadata": {
        "id": "SKlbljn-Bn_5"
      }
    },
    {
      "cell_type": "markdown",
      "source": [
        "### **Basic Data Visualisation Principles**\n",
        "\n",
        "Depending on how we create graphical depictions of data, we can alter the viewer’s impression of the data; in other words, if a picture is worth a thousand words, then how we make the picture can change the story. Ideally, we want our graphical summaries to be as objective as possible; we want the data to speak for themselves. There are no hard and fast rules for creating graphical summaries. Still, there are some basic principles to follow:\n",
        "\n",
        "- Always have a title for your graphical summary.\n",
        "- Titles should accurately describe the variables and the relationship shown in the summary. If one of the axes is time or the data are for a specific period, that should be in the title.\n",
        "- Clearly label the axes and include units.\n",
        "When comparing two data sets, the axes for each summary should match.\n"
      ],
      "metadata": {
        "id": "6K9291FrPDrl"
      }
    },
    {
      "cell_type": "markdown",
      "source": [
        "### **`iris` dataset**"
      ],
      "metadata": {
        "id": "GStAPWjcPddj"
      }
    },
    {
      "cell_type": "markdown",
      "source": [
        "To demonstrate the use of `ggplot2`, we will use a new dataset named `iris`, a classic dataset containing measurements of `Sepal.Length`, `Sepal.Width`, `Petal.Length`, and `Petal.Width` for three `Species` of iris flowers."
      ],
      "metadata": {
        "id": "Q7DBBJTGA52w"
      }
    },
    {
      "cell_type": "code",
      "source": [
        "iris = read.csv(\"./datasets/iris.csv\")\n",
        "iris %>% head()"
      ],
      "metadata": {
        "id": "x_AwiK4rBHhP"
      },
      "execution_count": null,
      "outputs": []
    },
    {
      "cell_type": "markdown",
      "source": [
        "### **Stacking LEGO Blocks**"
      ],
      "metadata": {
        "id": "LnNWbOcBCPsR"
      }
    },
    {
      "cell_type": "markdown",
      "source": [
        "Think of building a plot in `ggplot2` like stacking LEGO blocks, where each block adds something new."
      ],
      "metadata": {
        "id": "PqYgFXPVDVJ_"
      }
    },
    {
      "cell_type": "markdown",
      "source": [
        "\n",
        "#### **First LEGO Block: Data**\n",
        "\n",
        "`iris %>% ggplot()` tells `ggplot2` that we will use data from `iris`."
      ],
      "metadata": {
        "id": "RlGmsnsgEAUw"
      }
    },
    {
      "cell_type": "code",
      "source": [
        "iris %>%\n",
        "  ggplot()"
      ],
      "metadata": {
        "id": "ubFetI0FCasm"
      },
      "execution_count": null,
      "outputs": []
    },
    {
      "cell_type": "markdown",
      "source": [
        "Alternatively, you can write this explicitly as:"
      ],
      "metadata": {
        "id": "TdFS2vaQD-RP"
      }
    },
    {
      "cell_type": "code",
      "source": [
        "ggplot(data = iris)"
      ],
      "metadata": {
        "id": "AbxQmr4NEE4b"
      },
      "execution_count": null,
      "outputs": []
    },
    {
      "cell_type": "markdown",
      "source": [
        "#### **Second LEGO Block: Aesthetics**\n",
        "\n",
        "The aesthetics block `aes()` is like setting up the grid and rules of your LEGO baseplate — it defines how data variables map to visual properties on the plot.\n",
        "\n",
        "For example:\n",
        "- `x = Sepal.Width` defines what data goes along the horizontal axis (x-axis).\n",
        "- `y = Petal.Length` defines what data goes along the vertical axis (y-axis).\n",
        "- `color = Species` decides how points are colored based on their group.\n",
        "\n",
        "Yes, `ggplot2` natively understand column names. In fact, `ggplot2` and `dplyr` belong to a bigger family called `tidyverse`."
      ],
      "metadata": {
        "id": "OdzEZ9DCEJ8q"
      }
    },
    {
      "cell_type": "code",
      "source": [
        "iris %>%\n",
        "  ggplot(aes(x = Sepal.Width, y = Petal.Length, color = Species))"
      ],
      "metadata": {
        "id": "dAZnObrlEbXO"
      },
      "execution_count": null,
      "outputs": []
    },
    {
      "cell_type": "markdown",
      "source": [
        "#### **Third LEGO Block: The Actual Plot**\n",
        "\n",
        "The third block defines the type of plot or visual representation you want — this is called a `geom` (geometric object). It tells `ggplot2` how to draw your data on the axes set up by the aesthetics.\n",
        "\n",
        "Examples of `geom` include:\n",
        "- `geom_point()` for scatter-plots\n",
        "- `geom_line()` for line plots\n",
        "- `geom_bar()` for bar charts\n",
        "- `geom_histogram()` for histograms\n",
        "and many more\n",
        "\n",
        "Without adding a geom, your plot has no visual marks — just empty axes.\n",
        "\n",
        "From now, we use the `+` operator in `ggplot2` to add layers onto our plot one by one."
      ],
      "metadata": {
        "id": "tLoB1ZRDE6SI"
      }
    },
    {
      "cell_type": "code",
      "source": [
        "iris %>%\n",
        "  ggplot(aes(x = Sepal.Width, y = Petal.Length, color = Species)) +\n",
        "  geom_point(size = 4)"
      ],
      "metadata": {
        "id": "XoDXRgixE5UZ"
      },
      "execution_count": null,
      "outputs": []
    },
    {
      "cell_type": "markdown",
      "source": [
        "#### **Fourth LEGO Block: Customisation**\n",
        "\n",
        "The fourth block in `ggplot2` is all about customizing the appearance and style of your plot.\n",
        "\n",
        "This includes things like:\n",
        "\n",
        "- Adding titles, axis labels, and captions using `labs()`\n",
        "- Changing the theme (background, grid lines, fonts) with functions like `theme_minimal()`, `theme_classic()`, or customising with `theme()`\n",
        "- Adjusting scales for axes, colors, and sizes (e.g., `scale_color_manual()`, `scale_x_continuous()`)\n",
        "- Adding facets to create small multiples (`facet_wrap()`, `facet_grid()`)\n",
        "\n",
        "This block is like painting and decorating your LEGO model — after you’ve built the structure, you choose colors, textures, and details to make it look exactly how you want."
      ],
      "metadata": {
        "id": "MhkQ2ejmGKzN"
      }
    },
    {
      "cell_type": "code",
      "source": [
        "iris %>%\n",
        "  ggplot(aes(x = Sepal.Width, y = Petal.Length, color = Species)) +\n",
        "  geom_point(size = 4) +\n",
        "  labs(\n",
        "    title = \"Petal Length vs Sepal Width\",\n",
        "    x = \"Sepal Width (cm)\",\n",
        "    y = \"Petal Length (cm)\",\n",
        "    color = \"Species Type\"\n",
        "  ) +\n",
        "  theme_minimal() +\n",
        "  theme(\n",
        "    plot.title = element_text(face = \"bold\", size = 14, hjust = 0.5),\n",
        "    legend.position = \"top\"\n",
        "  )\n"
      ],
      "metadata": {
        "id": "C5vXK-CMG5ec"
      },
      "execution_count": null,
      "outputs": []
    },
    {
      "cell_type": "markdown",
      "source": [
        "#### **Exercise**\n",
        "\n",
        "Create a scatter plot of `Sepal.Length` vs `Sepal.Width`, colored by `Species`. Follow the same block-based `ggplot2` structure we discussed."
      ],
      "metadata": {
        "id": "laRmvwkwH7SI"
      }
    },
    {
      "cell_type": "code",
      "source": [],
      "metadata": {
        "id": "A5emtb8yH7nO"
      },
      "execution_count": null,
      "outputs": []
    },
    {
      "cell_type": "markdown",
      "source": [
        "\n",
        "<details>\n",
        "<summary>▶️ Click to show the solution</summary>\n",
        "\n",
        "```r\n",
        "iris %>%\n",
        "  ggplot(aes(x = Sepal.Width, y = Setal.Length, color = Species)) +\n",
        "  geom_point(size = 4) +\n",
        "  labs(\n",
        "    title = \"Setal Length vs Sepal Width\",\n",
        "    x = \"Sepal Width (cm)\",\n",
        "    y = \"Setal Length (cm)\",\n",
        "    color = \"Species Type\"\n",
        "  ) +\n",
        "  theme_minimal() +\n",
        "  theme(\n",
        "    plot.title = element_text(face = \"bold\", size = 14, hjust = 0.5),\n",
        "    legend.position = \"top\"\n",
        "  )\n",
        "```\n",
        "\n",
        "</details>"
      ],
      "metadata": {
        "id": "dmoVFIMaIMQE"
      }
    },
    {
      "cell_type": "markdown",
      "source": [
        "### **Visualising Subgroups with `facet_wrap()`**\n",
        "\n",
        "Assume that you want to create a scatter plot of `Petal.Length` vs `Sepal.Width`, however, for each species separately.\n",
        "\n",
        "One approach is to split the dataset by `Species`, extract the `Petal.Length` and `Sepal.Width` columns for each group, create a separate scatter plot for each, and then combine or \"stack\" the plots to compare across species. This is not convenient.\n",
        "\n",
        "`facet_wrap()` simplifies the process."
      ],
      "metadata": {
        "id": "-0p4TdkTHf3O"
      }
    },
    {
      "cell_type": "code",
      "source": [
        "iris %>%\n",
        "  ggplot(aes(x = Sepal.Width, y = Petal.Length)) +\n",
        "  geom_point(color = \"steelblue\", size = 2) +\n",
        "  facet_wrap(~ Species) +\n",
        "  theme_minimal() +\n",
        "  labs(\n",
        "    title = \"Petal Length vs Sepal Width by Species\",\n",
        "    x = \"Sepal Width\",\n",
        "    y = \"Petal Length\"\n",
        "  )"
      ],
      "metadata": {
        "id": "kT8pAvdRJLWl"
      },
      "execution_count": null,
      "outputs": []
    },
    {
      "cell_type": "markdown",
      "source": [
        "### **When Long-Format Data Are Needed**\n",
        "\n",
        "Suppose you want to plot `Sepal.Length` and `Petal.Length` values on the y-axis against `Sepal.Width` on the x-axis separately.\n",
        "\n",
        "Wide-format `iris` won't work in this case because `Sepal.Length` and `Petal.Length` are different columns — `ggplot` doesn’t know how to treat them as the same variable. Here, we can't set `y = c(\"Sepal.Length\", \"Petal.Length\")` for example — it simply doesn't work.\n",
        "\n",
        "**Solution**: We need to convert `iris` to long-format."
      ],
      "metadata": {
        "id": "LWA98NS1J_CC"
      }
    },
    {
      "cell_type": "code",
      "source": [
        "iris %>%\n",
        "  select(Sepal.Length, Sepal.Width, Petal.Length, Species) %>%\n",
        "  pivot_longer(\n",
        "    cols = c(Sepal.Length, Petal.Length),\n",
        "    names_to = \"Measurement\",\n",
        "    values_to = \"Length\"\n",
        "  ) -> long_iris\n",
        "\n",
        "long_iris %>%\n",
        "  head()"
      ],
      "metadata": {
        "id": "0OA_SH7OLQw8"
      },
      "execution_count": null,
      "outputs": []
    },
    {
      "cell_type": "markdown",
      "source": [
        "Now, it is possible to set`x = Measurement` as the x-axis of the plot."
      ],
      "metadata": {
        "id": "3mqNKZwzLuWr"
      }
    },
    {
      "cell_type": "code",
      "source": [
        "long_iris %>%\n",
        "  ggplot(aes(x = Sepal.Width, y = Length, color = Species)) +\n",
        "  geom_point(size = 4) +\n",
        "  facet_wrap(~ Measurement) +\n",
        "  labs(\n",
        "    title = \"Sepal and Petal Length vs Sepal Width by Measurement\",\n",
        "    x = \"Sepal Width\",\n",
        "    y = \"Length (cm)\"\n",
        "  ) +\n",
        "  theme_minimal()+\n",
        "  theme(\n",
        "    plot.title = element_text(face = \"bold\", size = 14, hjust = 0.5),\n",
        "    legend.position = \"top\"\n",
        "  )"
      ],
      "metadata": {
        "id": "jYsPI94CLste"
      },
      "execution_count": null,
      "outputs": []
    },
    {
      "cell_type": "markdown",
      "source": [
        "## **Workshop Questions**\n"
      ],
      "metadata": {
        "id": "aT7mowtWOSOR"
      }
    },
    {
      "cell_type": "markdown",
      "source": [
        "### **EPA Fuel Economy Dataset**\n",
        "\n",
        "A dataset containing information on over 13,500 cars sold in the US from 2010 to 2020, including measurements and characteristics related to vehicle fuel economy and specifications. Data sourced from the [US Fuel Economy website](https://www.fueleconomy.gov/feg/download.shtml).\n",
        "\n",
        "| Variable | Description                                    |\n",
        "|----------|------------------------------------------------|\n",
        "| `city`   | EPA measured fuel economy in miles per gallon (city driving) |\n",
        "| `hwy`    | EPA measured fuel economy in miles per gallon (highway driving) |\n",
        "| `cyl`    | Number of cylinders in the engine              |\n",
        "| `disp`   | Engine displacement (litres)                    |\n",
        "| `drive`  | Vehicle drivetrain layout (e.g., FWD, RWD, AWD) |\n",
        "| `make`   | Vehicle manufacturer name                       |\n",
        "| `model`  | Vehicle model name                              |\n",
        "| `trans`  | Transmission type (manual or automatic)        |\n",
        "| `year`   | Vehicle model year                              |\n"
      ],
      "metadata": {
        "id": "mUdwCI96R1Mt"
      }
    },
    {
      "cell_type": "code",
      "source": [
        "epa_data = read.csv(\"./datasets/epa_data.csv\")\n",
        "str(epa_data)"
      ],
      "metadata": {
        "id": "CHhLIF38S99I"
      },
      "execution_count": null,
      "outputs": []
    },
    {
      "cell_type": "markdown",
      "source": [
        "### **Question 1**\n",
        "\n",
        "Suppose you want to compare the fuel economy in city driving between manual and automatic transmissions using the EPA dataset.\n",
        "- What type of graphical summary would best display this comparison?\n",
        "- Use `ggplot` to produce this visualisation.\n",
        "\n",
        "**Hint**:\n",
        "- Only specify the x-axis inside `ggplot(aes())`.\n",
        "- Use `geom_histogram(aes(y = after_stat(density)))` to plot normalised histograms for comparison (y-axis is defined here).\n",
        "- Use `facet_wrap()` to create small multiples."
      ],
      "metadata": {
        "id": "pDh0JmjVUttH"
      }
    },
    {
      "cell_type": "code",
      "source": [],
      "metadata": {
        "id": "qAIRDCxsVRj4"
      },
      "execution_count": null,
      "outputs": []
    },
    {
      "cell_type": "markdown",
      "source": [
        "<details>\n",
        "<summary>▶️ Click to show the solution</summary>\n",
        "\n",
        "```r\n",
        "Solution will be released at the end of the week!\n",
        "```\n",
        "\n",
        "</details>"
      ],
      "metadata": {
        "id": "fhM5x8FZWz4c"
      }
    },
    {
      "cell_type": "markdown",
      "source": [
        "### **Question 2**\n",
        "\n",
        "\n",
        "Suppose you want to compare the combined fuel economy (city and highway driving) between manual and automatic transmissions using the EPA dataset.\n",
        "\n",
        "- What steps would you take to prepare the data?\n",
        "- What type of graphical summary would best display this comparison?\n",
        "- Use `ggplot` to produce this visualisation.\n",
        "\n",
        "**Hint**: We need a new `long-format` data frame.\n"
      ],
      "metadata": {
        "id": "8N8X8iO8TVN7"
      }
    },
    {
      "cell_type": "code",
      "source": [],
      "metadata": {
        "id": "FD0Z_SgVUoSx"
      },
      "execution_count": null,
      "outputs": []
    },
    {
      "cell_type": "markdown",
      "source": [
        "<details>\n",
        "<summary>▶️ Click to show the solution</summary>\n",
        "\n",
        "```r\n",
        "Solution will be released at the end of the week!\n",
        "```\n",
        "\n",
        "</details>"
      ],
      "metadata": {
        "id": "BfS0li2iUo0X"
      }
    },
    {
      "cell_type": "markdown",
      "source": [
        "### **Question 3**\n",
        "\n",
        "Suppose that you want to explore how engine displacement changed over time.\n",
        "\n",
        "- What type of graph or chart would you use and why?\n",
        "- Use `ggplot` to produce this graphical summary."
      ],
      "metadata": {
        "id": "ech8Cm0RXlqJ"
      }
    },
    {
      "cell_type": "markdown",
      "source": [
        "**Hint**:\n",
        "- Use `stat_summary(func = \"mean\", geom = \"line\")` instead of `geom_line`.\n",
        "- A simpler approach is to use `group_by() %>% summarise()`. Use `na.rm = TRUE` option in `mean()`."
      ],
      "metadata": {
        "id": "NDmxA3RGYy2Q"
      }
    },
    {
      "cell_type": "code",
      "source": [],
      "metadata": {
        "id": "nJri32CfaSs2"
      },
      "execution_count": null,
      "outputs": []
    },
    {
      "cell_type": "markdown",
      "source": [
        "<details>\n",
        "<summary>▶️ Click to show the solution </summary>\n",
        "\n",
        "Solution will be released at the end of the week!\n",
        "\n",
        "</details>"
      ],
      "metadata": {
        "id": "WWNf3SFIZSI4"
      }
    },
    {
      "cell_type": "markdown",
      "source": [
        "### **Question 4**\n",
        "\n",
        "Suppose you want to identify which manufacturers produced the most fuel-efficient cars given city driving EPA in the `epa_data` dataset.\n",
        "\n",
        "- Use `group_by() %>% summarise()` to summarise `EPA` by manufacturer. Name the summary column `mean_mpg`."
      ],
      "metadata": {
        "id": "2qrbXcZPaUx7"
      }
    },
    {
      "cell_type": "code",
      "source": [],
      "metadata": {
        "id": "R1eoUl1gbyP7"
      },
      "execution_count": null,
      "outputs": []
    },
    {
      "cell_type": "markdown",
      "source": [
        "<details>\n",
        "<summary>▶️ Click to show the solution </summary>\n",
        "\n",
        "Solution will be released at the end of the week!\n",
        "\n",
        "</details>"
      ],
      "metadata": {
        "id": "FYrjg20_dQY2"
      }
    },
    {
      "cell_type": "markdown",
      "source": [
        "- Use `ggplot` to create a Pareto plot (i.e., a sorted bar chart) to support your analysis? Is the plot descriptive enough?\n",
        "\n",
        "**Hint**:  Use `ggplot(aes(x = reorder(make,-mean_mpg)))` to make sure `make` is the x-asis but sorted by `-mean_mpg` (e.g., larger values come first)."
      ],
      "metadata": {
        "id": "KLWp2CnPdUek"
      }
    },
    {
      "cell_type": "code",
      "source": [],
      "metadata": {
        "id": "XfmQJzRtcpA1"
      },
      "execution_count": null,
      "outputs": []
    },
    {
      "cell_type": "markdown",
      "source": [
        "<details>\n",
        "<summary>▶️ Click to show the solution </summary>\n",
        "\n",
        "Solution will be released at the end of the week!\n",
        "\n",
        "</details>"
      ],
      "metadata": {
        "id": "FFpQV64EeBJa"
      }
    },
    {
      "cell_type": "markdown",
      "source": [
        "- How might you improve the previous plot to better answer the question?\n",
        "\n",
        "**Hint**: Use `slice_max(order_by = mean_mpg, n)` to select top `n` manufacturers based on `-mean_mpg`."
      ],
      "metadata": {
        "id": "N7GxRA0ece-J"
      }
    },
    {
      "cell_type": "code",
      "source": [],
      "metadata": {
        "id": "NFyfK6NceUCQ"
      },
      "execution_count": null,
      "outputs": []
    },
    {
      "cell_type": "markdown",
      "source": [
        "<details>\n",
        "<summary>▶️ Click to show the solution </summary>\n",
        "\n",
        "Solution will be released at the end of the week!\n",
        "\n",
        "</details>"
      ],
      "metadata": {
        "id": "2GzkppMWe1Yw"
      }
    },
    {
      "cell_type": "markdown",
      "source": [
        "Solution notebook has been published! See [Week 1 Solutions](https://colab.research.google.com/github/edelweiss611428/MXB107-Notebooks/blob/main/notebooks/solutions/Week_1_Solutions.ipynb#scrollTo=aT7mowtWOSOR)!"
      ],
      "metadata": {
        "id": "LRti8eITwHd7"
      }
    }
  ]
}